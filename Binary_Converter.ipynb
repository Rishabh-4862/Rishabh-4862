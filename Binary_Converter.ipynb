{
  "nbformat": 4,
  "nbformat_minor": 0,
  "metadata": {
    "colab": {
      "provenance": [],
      "collapsed_sections": [],
      "authorship_tag": "ABX9TyPcXzuX5OtrJWte8eqvgGdR",
      "include_colab_link": true
    },
    "kernelspec": {
      "name": "python3",
      "display_name": "Python 3"
    }
  },
  "cells": [
    {
      "cell_type": "markdown",
      "metadata": {
        "id": "view-in-github",
        "colab_type": "text"
      },
      "source": [
        "<a href=\"https://colab.research.google.com/github/Rishabh-4862/Rishabh-4862/blob/main/Binary_Converter.ipynb\" target=\"_parent\"><img src=\"https://colab.research.google.com/assets/colab-badge.svg\" alt=\"Open In Colab\"/></a>"
      ]
    },
    {
      "cell_type": "code",
      "metadata": {
        "id": "8V_aihy8alvr"
      },
      "source": [
        "print(\"                         Decimal to Binary Converter\")\n",
        "print(\"Please make sure that the number you will enter is less than 8191.\")\n",
        "a=int(input(\"Enter the number: \"))\n",
        "b=a//2\n",
        "c=a%2 #\n",
        "d=b//2\n",
        "e=b%2 #\n",
        "f=d//2\n",
        "g=d%2 #\n",
        "h=f//2\n",
        "i=f%2 #\n",
        "j=h//2\n",
        "k=h%2 #\n",
        "l=j//2\n",
        "m=j%2 #\n",
        "n=l//2\n",
        "o=l%2 #\n",
        "p=n//2\n",
        "q=n%2 #\n",
        "r=p//2\n",
        "s=p%2 #\n",
        "t=r//2\n",
        "u=r%2 #\n",
        "v=t//2\n",
        "w=t%2 #\n",
        "x=v//2\n",
        "y=v%2 #\n",
        "z=x//2\n",
        "aa=x%2 #\n",
        "print(\"The binary number of\",a,\"is:\",aa,y,w,u,s,q,o,m,k,i,g,e,c)"
      ],
      "execution_count": null,
      "outputs": []
    },
    {
      "cell_type": "code",
      "metadata": {
        "colab": {
          "base_uri": "https://localhost:8080/"
        },
        "id": "bJCfR7nx3oDZ",
        "outputId": "344ac54b-535b-4543-d79f-710695acf9dd"
      },
      "source": [
        "b=4\n",
        "a=b\n",
        "b=a-1\n",
        "a=b**4\n",
        "print(a+b)"
      ],
      "execution_count": null,
      "outputs": [
        {
          "output_type": "stream",
          "text": [
            "84\n"
          ],
          "name": "stdout"
        }
      ]
    }
  ]
}